{
 "cells": [
  {
   "cell_type": "code",
   "execution_count": 3,
   "metadata": {},
   "outputs": [],
   "source": [
    "import sys\n",
    "from yahoo_finance_api2 import share\n",
    "from yahoo_finance_api2.exceptions import YahooFinanceError"
   ]
  },
  {
   "cell_type": "code",
   "execution_count": 4,
   "metadata": {},
   "outputs": [
    {
     "name": "stdout",
     "output_type": "stream",
     "text": [
      "{'timestamp': [1626652800000, 1626739200000, 1626825600000, 1627257600000, 1627366501000], 'open': [1995.0, 1969.0, 2000.0, 2025.0, 2021.0], 'high': [2001.0, 1981.0, 2009.0, 2026.0, 2026.0], 'low': [1981.0, 1964.0, 1983.0, 2006.0, 2016.0], 'close': [1991.0, 1970.0, 1985.0, 2008.0, 2021.0], 'volume': [162720, 476450, 91520, 78010, 298300]}\n"
     ]
    }
   ],
   "source": [
    "#my_share = share.Share('MSFT')\n",
    "my_share = share.Share('1305.T')\n",
    "\n",
    "symbol_data = None\n",
    "\n",
    "try:\n",
    "    symbol_data = my_share.get_historical(\n",
    "        share.PERIOD_TYPE_DAY, 10,\n",
    "        share.FREQUENCY_TYPE_DAY, 1)\n",
    "except YahooFinanceError as e:\n",
    "    print(e.message)\n",
    "    sys.exit(1)\n",
    "\n",
    "print(symbol_data)"
   ]
  },
  {
   "cell_type": "code",
   "execution_count": 5,
   "metadata": {},
   "outputs": [],
   "source": [
    "import pandas as pd\n",
    "df =pd.DataFrame(symbol_data)"
   ]
  },
  {
   "cell_type": "code",
   "execution_count": 6,
   "metadata": {},
   "outputs": [
    {
     "data": {
      "text/html": [
       "<div>\n",
       "<style scoped>\n",
       "    .dataframe tbody tr th:only-of-type {\n",
       "        vertical-align: middle;\n",
       "    }\n",
       "\n",
       "    .dataframe tbody tr th {\n",
       "        vertical-align: top;\n",
       "    }\n",
       "\n",
       "    .dataframe thead th {\n",
       "        text-align: right;\n",
       "    }\n",
       "</style>\n",
       "<table border=\"1\" class=\"dataframe\">\n",
       "  <thead>\n",
       "    <tr style=\"text-align: right;\">\n",
       "      <th></th>\n",
       "      <th>timestamp</th>\n",
       "      <th>open</th>\n",
       "      <th>high</th>\n",
       "      <th>low</th>\n",
       "      <th>close</th>\n",
       "      <th>volume</th>\n",
       "    </tr>\n",
       "  </thead>\n",
       "  <tbody>\n",
       "    <tr>\n",
       "      <th>0</th>\n",
       "      <td>1626652800000</td>\n",
       "      <td>1995.0</td>\n",
       "      <td>2001.0</td>\n",
       "      <td>1981.0</td>\n",
       "      <td>1991.0</td>\n",
       "      <td>162720</td>\n",
       "    </tr>\n",
       "    <tr>\n",
       "      <th>1</th>\n",
       "      <td>1626739200000</td>\n",
       "      <td>1969.0</td>\n",
       "      <td>1981.0</td>\n",
       "      <td>1964.0</td>\n",
       "      <td>1970.0</td>\n",
       "      <td>476450</td>\n",
       "    </tr>\n",
       "    <tr>\n",
       "      <th>2</th>\n",
       "      <td>1626825600000</td>\n",
       "      <td>2000.0</td>\n",
       "      <td>2009.0</td>\n",
       "      <td>1983.0</td>\n",
       "      <td>1985.0</td>\n",
       "      <td>91520</td>\n",
       "    </tr>\n",
       "    <tr>\n",
       "      <th>3</th>\n",
       "      <td>1627257600000</td>\n",
       "      <td>2025.0</td>\n",
       "      <td>2026.0</td>\n",
       "      <td>2006.0</td>\n",
       "      <td>2008.0</td>\n",
       "      <td>78010</td>\n",
       "    </tr>\n",
       "    <tr>\n",
       "      <th>4</th>\n",
       "      <td>1627366501000</td>\n",
       "      <td>2021.0</td>\n",
       "      <td>2026.0</td>\n",
       "      <td>2016.0</td>\n",
       "      <td>2021.0</td>\n",
       "      <td>298300</td>\n",
       "    </tr>\n",
       "  </tbody>\n",
       "</table>\n",
       "</div>"
      ],
      "text/plain": [
       "       timestamp    open    high     low   close  volume\n",
       "0  1626652800000  1995.0  2001.0  1981.0  1991.0  162720\n",
       "1  1626739200000  1969.0  1981.0  1964.0  1970.0  476450\n",
       "2  1626825600000  2000.0  2009.0  1983.0  1985.0   91520\n",
       "3  1627257600000  2025.0  2026.0  2006.0  2008.0   78010\n",
       "4  1627366501000  2021.0  2026.0  2016.0  2021.0  298300"
      ]
     },
     "execution_count": 6,
     "metadata": {},
     "output_type": "execute_result"
    }
   ],
   "source": [
    "df"
   ]
  },
  {
   "cell_type": "code",
   "execution_count": 7,
   "metadata": {},
   "outputs": [],
   "source": [
    "import datetime\n",
    "df[\"datetime\"] =pd.to_datetime(df.timestamp, unit=\"ms\") + datetime.timedelta(hours=9)"
   ]
  },
  {
   "cell_type": "code",
   "execution_count": 8,
   "metadata": {},
   "outputs": [
    {
     "data": {
      "text/html": [
       "<div>\n",
       "<style scoped>\n",
       "    .dataframe tbody tr th:only-of-type {\n",
       "        vertical-align: middle;\n",
       "    }\n",
       "\n",
       "    .dataframe tbody tr th {\n",
       "        vertical-align: top;\n",
       "    }\n",
       "\n",
       "    .dataframe thead th {\n",
       "        text-align: right;\n",
       "    }\n",
       "</style>\n",
       "<table border=\"1\" class=\"dataframe\">\n",
       "  <thead>\n",
       "    <tr style=\"text-align: right;\">\n",
       "      <th></th>\n",
       "      <th>timestamp</th>\n",
       "      <th>open</th>\n",
       "      <th>high</th>\n",
       "      <th>low</th>\n",
       "      <th>close</th>\n",
       "      <th>volume</th>\n",
       "      <th>datetime</th>\n",
       "    </tr>\n",
       "  </thead>\n",
       "  <tbody>\n",
       "    <tr>\n",
       "      <th>0</th>\n",
       "      <td>1626652800000</td>\n",
       "      <td>1995.0</td>\n",
       "      <td>2001.0</td>\n",
       "      <td>1981.0</td>\n",
       "      <td>1991.0</td>\n",
       "      <td>162720</td>\n",
       "      <td>2021-07-19 09:00:00</td>\n",
       "    </tr>\n",
       "    <tr>\n",
       "      <th>1</th>\n",
       "      <td>1626739200000</td>\n",
       "      <td>1969.0</td>\n",
       "      <td>1981.0</td>\n",
       "      <td>1964.0</td>\n",
       "      <td>1970.0</td>\n",
       "      <td>476450</td>\n",
       "      <td>2021-07-20 09:00:00</td>\n",
       "    </tr>\n",
       "    <tr>\n",
       "      <th>2</th>\n",
       "      <td>1626825600000</td>\n",
       "      <td>2000.0</td>\n",
       "      <td>2009.0</td>\n",
       "      <td>1983.0</td>\n",
       "      <td>1985.0</td>\n",
       "      <td>91520</td>\n",
       "      <td>2021-07-21 09:00:00</td>\n",
       "    </tr>\n",
       "    <tr>\n",
       "      <th>3</th>\n",
       "      <td>1627257600000</td>\n",
       "      <td>2025.0</td>\n",
       "      <td>2026.0</td>\n",
       "      <td>2006.0</td>\n",
       "      <td>2008.0</td>\n",
       "      <td>78010</td>\n",
       "      <td>2021-07-26 09:00:00</td>\n",
       "    </tr>\n",
       "    <tr>\n",
       "      <th>4</th>\n",
       "      <td>1627366501000</td>\n",
       "      <td>2021.0</td>\n",
       "      <td>2026.0</td>\n",
       "      <td>2016.0</td>\n",
       "      <td>2021.0</td>\n",
       "      <td>298300</td>\n",
       "      <td>2021-07-27 15:15:01</td>\n",
       "    </tr>\n",
       "  </tbody>\n",
       "</table>\n",
       "</div>"
      ],
      "text/plain": [
       "       timestamp    open    high     low   close  volume            datetime\n",
       "0  1626652800000  1995.0  2001.0  1981.0  1991.0  162720 2021-07-19 09:00:00\n",
       "1  1626739200000  1969.0  1981.0  1964.0  1970.0  476450 2021-07-20 09:00:00\n",
       "2  1626825600000  2000.0  2009.0  1983.0  1985.0   91520 2021-07-21 09:00:00\n",
       "3  1627257600000  2025.0  2026.0  2006.0  2008.0   78010 2021-07-26 09:00:00\n",
       "4  1627366501000  2021.0  2026.0  2016.0  2021.0  298300 2021-07-27 15:15:01"
      ]
     },
     "execution_count": 8,
     "metadata": {},
     "output_type": "execute_result"
    }
   ],
   "source": [
    "df"
   ]
  },
  {
   "cell_type": "code",
   "execution_count": null,
   "metadata": {},
   "outputs": [],
   "source": []
  }
 ],
 "metadata": {
  "kernelspec": {
   "display_name": "Python 3",
   "language": "python",
   "name": "python3"
  },
  "language_info": {
   "codemirror_mode": {
    "name": "ipython",
    "version": 3
   },
   "file_extension": ".py",
   "mimetype": "text/x-python",
   "name": "python",
   "nbconvert_exporter": "python",
   "pygments_lexer": "ipython3",
   "version": "3.7.6"
  }
 },
 "nbformat": 4,
 "nbformat_minor": 4
}
