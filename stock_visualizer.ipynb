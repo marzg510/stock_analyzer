{
 "cells": [
  {
   "cell_type": "code",
   "execution_count": 54,
   "source": [
    "import sys\n",
    "import pandas as pd\n",
    "import mplfinance as mpf\n",
    "%matplotlib inline"
   ],
   "outputs": [],
   "metadata": {}
  },
  {
   "cell_type": "markdown",
   "source": [
    "## 月足"
   ],
   "metadata": {}
  },
  {
   "cell_type": "code",
   "execution_count": 55,
   "source": [
    "mtdf = pd.read_csv(\"data/transaction_data/trans_hist_monthly.csv\")"
   ],
   "outputs": [],
   "metadata": {}
  },
  {
   "cell_type": "code",
   "execution_count": 56,
   "source": [
    "mtdf.head()"
   ],
   "outputs": [
    {
     "output_type": "execute_result",
     "data": {
      "text/plain": [
       "   code             datetime    open    high     low   close    volume  code_y\n",
       "0  1301  2011-07-31 15:00:00  1810.0  1840.0  1660.0  1810.0  203800.0  1301.T\n",
       "1  1301  2011-08-31 15:00:00  1820.0  1850.0  1740.0  1840.0  187300.0  1301.T\n",
       "2  1301  2011-09-30 15:00:00  1810.0  1810.0  1740.0  1770.0  128500.0  1301.T\n",
       "3  1301  2011-10-31 15:00:00  1770.0  1930.0  1720.0  1750.0  483700.0  1301.T\n",
       "4  1301  2011-11-30 15:00:00  1750.0  1840.0  1740.0  1780.0  272200.0  1301.T"
      ],
      "text/html": [
       "<div>\n",
       "<style scoped>\n",
       "    .dataframe tbody tr th:only-of-type {\n",
       "        vertical-align: middle;\n",
       "    }\n",
       "\n",
       "    .dataframe tbody tr th {\n",
       "        vertical-align: top;\n",
       "    }\n",
       "\n",
       "    .dataframe thead th {\n",
       "        text-align: right;\n",
       "    }\n",
       "</style>\n",
       "<table border=\"1\" class=\"dataframe\">\n",
       "  <thead>\n",
       "    <tr style=\"text-align: right;\">\n",
       "      <th></th>\n",
       "      <th>code</th>\n",
       "      <th>datetime</th>\n",
       "      <th>open</th>\n",
       "      <th>high</th>\n",
       "      <th>low</th>\n",
       "      <th>close</th>\n",
       "      <th>volume</th>\n",
       "      <th>code_y</th>\n",
       "    </tr>\n",
       "  </thead>\n",
       "  <tbody>\n",
       "    <tr>\n",
       "      <th>0</th>\n",
       "      <td>1301</td>\n",
       "      <td>2011-07-31 15:00:00</td>\n",
       "      <td>1810.0</td>\n",
       "      <td>1840.0</td>\n",
       "      <td>1660.0</td>\n",
       "      <td>1810.0</td>\n",
       "      <td>203800.0</td>\n",
       "      <td>1301.T</td>\n",
       "    </tr>\n",
       "    <tr>\n",
       "      <th>1</th>\n",
       "      <td>1301</td>\n",
       "      <td>2011-08-31 15:00:00</td>\n",
       "      <td>1820.0</td>\n",
       "      <td>1850.0</td>\n",
       "      <td>1740.0</td>\n",
       "      <td>1840.0</td>\n",
       "      <td>187300.0</td>\n",
       "      <td>1301.T</td>\n",
       "    </tr>\n",
       "    <tr>\n",
       "      <th>2</th>\n",
       "      <td>1301</td>\n",
       "      <td>2011-09-30 15:00:00</td>\n",
       "      <td>1810.0</td>\n",
       "      <td>1810.0</td>\n",
       "      <td>1740.0</td>\n",
       "      <td>1770.0</td>\n",
       "      <td>128500.0</td>\n",
       "      <td>1301.T</td>\n",
       "    </tr>\n",
       "    <tr>\n",
       "      <th>3</th>\n",
       "      <td>1301</td>\n",
       "      <td>2011-10-31 15:00:00</td>\n",
       "      <td>1770.0</td>\n",
       "      <td>1930.0</td>\n",
       "      <td>1720.0</td>\n",
       "      <td>1750.0</td>\n",
       "      <td>483700.0</td>\n",
       "      <td>1301.T</td>\n",
       "    </tr>\n",
       "    <tr>\n",
       "      <th>4</th>\n",
       "      <td>1301</td>\n",
       "      <td>2011-11-30 15:00:00</td>\n",
       "      <td>1750.0</td>\n",
       "      <td>1840.0</td>\n",
       "      <td>1740.0</td>\n",
       "      <td>1780.0</td>\n",
       "      <td>272200.0</td>\n",
       "      <td>1301.T</td>\n",
       "    </tr>\n",
       "  </tbody>\n",
       "</table>\n",
       "</div>"
      ]
     },
     "metadata": {},
     "execution_count": 56
    }
   ],
   "metadata": {}
  },
  {
   "cell_type": "code",
   "execution_count": 57,
   "source": [
    "chart_data = mtdf[mtdf.code==1301][[\"datetime\",\"open\",\"high\",\"low\",\"close\",\"volume\"]]\n",
    "chart_data[\"datetime\"] = pd.to_datetime(chart_data[\"datetime\"])\n",
    "chart_data = chart_data.set_index(\"datetime\")\n",
    "chart_data.columns = ['Open', 'High', 'Low', 'Close', 'Volume']\n",
    "chart_data.head()"
   ],
   "outputs": [
    {
     "output_type": "execute_result",
     "data": {
      "text/plain": [
       "                       Open    High     Low   Close    Volume\n",
       "datetime                                                     \n",
       "2011-07-31 15:00:00  1810.0  1840.0  1660.0  1810.0  203800.0\n",
       "2011-08-31 15:00:00  1820.0  1850.0  1740.0  1840.0  187300.0\n",
       "2011-09-30 15:00:00  1810.0  1810.0  1740.0  1770.0  128500.0\n",
       "2011-10-31 15:00:00  1770.0  1930.0  1720.0  1750.0  483700.0\n",
       "2011-11-30 15:00:00  1750.0  1840.0  1740.0  1780.0  272200.0"
      ],
      "text/html": [
       "<div>\n",
       "<style scoped>\n",
       "    .dataframe tbody tr th:only-of-type {\n",
       "        vertical-align: middle;\n",
       "    }\n",
       "\n",
       "    .dataframe tbody tr th {\n",
       "        vertical-align: top;\n",
       "    }\n",
       "\n",
       "    .dataframe thead th {\n",
       "        text-align: right;\n",
       "    }\n",
       "</style>\n",
       "<table border=\"1\" class=\"dataframe\">\n",
       "  <thead>\n",
       "    <tr style=\"text-align: right;\">\n",
       "      <th></th>\n",
       "      <th>Open</th>\n",
       "      <th>High</th>\n",
       "      <th>Low</th>\n",
       "      <th>Close</th>\n",
       "      <th>Volume</th>\n",
       "    </tr>\n",
       "    <tr>\n",
       "      <th>datetime</th>\n",
       "      <th></th>\n",
       "      <th></th>\n",
       "      <th></th>\n",
       "      <th></th>\n",
       "      <th></th>\n",
       "    </tr>\n",
       "  </thead>\n",
       "  <tbody>\n",
       "    <tr>\n",
       "      <th>2011-07-31 15:00:00</th>\n",
       "      <td>1810.0</td>\n",
       "      <td>1840.0</td>\n",
       "      <td>1660.0</td>\n",
       "      <td>1810.0</td>\n",
       "      <td>203800.0</td>\n",
       "    </tr>\n",
       "    <tr>\n",
       "      <th>2011-08-31 15:00:00</th>\n",
       "      <td>1820.0</td>\n",
       "      <td>1850.0</td>\n",
       "      <td>1740.0</td>\n",
       "      <td>1840.0</td>\n",
       "      <td>187300.0</td>\n",
       "    </tr>\n",
       "    <tr>\n",
       "      <th>2011-09-30 15:00:00</th>\n",
       "      <td>1810.0</td>\n",
       "      <td>1810.0</td>\n",
       "      <td>1740.0</td>\n",
       "      <td>1770.0</td>\n",
       "      <td>128500.0</td>\n",
       "    </tr>\n",
       "    <tr>\n",
       "      <th>2011-10-31 15:00:00</th>\n",
       "      <td>1770.0</td>\n",
       "      <td>1930.0</td>\n",
       "      <td>1720.0</td>\n",
       "      <td>1750.0</td>\n",
       "      <td>483700.0</td>\n",
       "    </tr>\n",
       "    <tr>\n",
       "      <th>2011-11-30 15:00:00</th>\n",
       "      <td>1750.0</td>\n",
       "      <td>1840.0</td>\n",
       "      <td>1740.0</td>\n",
       "      <td>1780.0</td>\n",
       "      <td>272200.0</td>\n",
       "    </tr>\n",
       "  </tbody>\n",
       "</table>\n",
       "</div>"
      ]
     },
     "metadata": {},
     "execution_count": 57
    }
   ],
   "metadata": {}
  },
  {
   "cell_type": "code",
   "execution_count": 58,
   "source": [
    "chart_data.index"
   ],
   "outputs": [
    {
     "output_type": "execute_result",
     "data": {
      "text/plain": [
       "DatetimeIndex(['2011-07-31 15:00:00', '2011-08-31 15:00:00',\n",
       "               '2011-09-30 15:00:00', '2011-10-31 15:00:00',\n",
       "               '2011-11-30 15:00:00', '2011-12-31 15:00:00',\n",
       "               '2012-01-31 15:00:00', '2012-02-29 15:00:00',\n",
       "               '2012-03-31 15:00:00', '2012-04-30 15:00:00',\n",
       "               ...\n",
       "               '2020-10-31 15:00:00', '2020-11-30 15:00:00',\n",
       "               '2020-12-31 15:00:00', '2021-01-31 15:00:00',\n",
       "               '2021-02-28 15:00:00', '2021-03-31 15:00:00',\n",
       "               '2021-04-30 15:00:00', '2021-05-31 15:00:00',\n",
       "               '2021-06-30 15:00:00', '2021-07-28 06:15:01'],\n",
       "              dtype='datetime64[ns]', name='datetime', length=121, freq=None)"
      ]
     },
     "metadata": {},
     "execution_count": 58
    }
   ],
   "metadata": {}
  },
  {
   "cell_type": "code",
   "execution_count": 62,
   "source": [
    "chart_data = chart_data[pd.to_datetime(\"2018-01-01\"):]"
   ],
   "outputs": [],
   "metadata": {}
  },
  {
   "cell_type": "code",
   "execution_count": 67,
   "source": [
    "mpf.plot(chart_data,type=\"candle\",figratio=(10,4),volume=True)"
   ],
   "outputs": [
    {
     "output_type": "display_data",
     "data": {
      "text/plain": [
       "<Figure size 1437.5x575 with 4 Axes>"
      ],
      "image/png": "[encoded data removed]"
     },
     "metadata": {}
    }
   ],
   "metadata": {}
  },
  {
   "cell_type": "code",
   "execution_count": null,
   "source": [],
   "outputs": [],
   "metadata": {}
  }
 ],
 "metadata": {
  "orig_nbformat": 4,
  "language_info": {
   "name": "python",
   "version": "3.7.6",
   "mimetype": "text/x-python",
   "codemirror_mode": {
    "name": "ipython",
    "version": 3
   },
   "pygments_lexer": "ipython3",
   "nbconvert_exporter": "python",
   "file_extension": ".py"
  },
  "kernelspec": {
   "name": "python3",
   "display_name": "Python 3.7.6 64-bit ('anaconda3-2020.02': pyenv)"
  },
  "interpreter": {
   "hash": "05aa7c638a83535b24d4b66824c271ea10c0b25daceb89f0a94538f56edc86a1"
  }
 },
 "nbformat": 4,
 "nbformat_minor": 2
}